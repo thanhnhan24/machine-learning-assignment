{
 "cells": [
  {
   "cell_type": "code",
   "execution_count": 23,
   "id": "242fca11",
   "metadata": {},
   "outputs": [],
   "source": [
    "network = {\n",
    "    'A': ['B', 'C', 'D'],\n",
    "    'B': ['E', 'F'],\n",
    "    'C': ['F'],\n",
    "    'D': ['G'],\n",
    "    'E': [],\n",
    "    'F': ['H', 'I'],\n",
    "    'G': ['J', 'K'],\n",
    "    'H': [],\n",
    "    'I': [],\n",
    "    'J': [],\n",
    "    'K': []\n",
    "}"
   ]
  },
  {
   "cell_type": "code",
   "execution_count": 24,
   "id": "857805aa",
   "metadata": {},
   "outputs": [],
   "source": [
    "def print_table(loop, current_node , gamma, open, close):\n",
    "    print(f'Loop: {loop} | Current Node: {current_node} | Gamma: {gamma} | Open: {open} | Close: {close} \\n')"
   ]
  },
  {
   "cell_type": "code",
   "execution_count": 27,
   "id": "fd308a44",
   "metadata": {},
   "outputs": [],
   "source": [
    "def BFS(network, start, end):\n",
    "    open = []\n",
    "    gamma = []\n",
    "    close = []\n",
    "    loop = 0\n",
    "    print_table(loop, '', '', start, '')\n",
    "    currrent_node = start #n\n",
    "    if currrent_node == end:\n",
    "        return True\n",
    "    while currrent_node !=  end:\n",
    "        loop += 1\n",
    "        if network[currrent_node] != []:\n",
    "            gamma = network[currrent_node]\n",
    "        else:  \n",
    "            gamma = []\n",
    "        open[:0] = gamma\n",
    "        close[:0] = [currrent_node]\n",
    "        print_table(loop, currrent_node, gamma, open, close)\n",
    "        currrent_node = open.pop(0)\n",
    "        if currrent_node == end:\n",
    "            print_table(loop, currrent_node, gamma, open, close)\n",
    "            print(\"Found the end node\")\n",
    "            return True\n",
    "        if loop > 50:\n",
    "            print(\"Loop limit exceeded\")\n",
    "            return False\n",
    "\n"
   ]
  },
  {
   "cell_type": "code",
   "execution_count": 28,
   "id": "80a809db",
   "metadata": {},
   "outputs": [
    {
     "name": "stdout",
     "output_type": "stream",
     "text": [
      "Loop: 0 | Current Node:  | Gamma:  | Open: A | Close:  \n",
      "\n",
      "Loop: 1 | Current Node: A | Gamma: ['B', 'C', 'D'] | Open: ['B', 'C', 'D'] | Close: ['A'] \n",
      "\n",
      "Loop: 2 | Current Node: B | Gamma: ['E', 'F'] | Open: ['E', 'F', 'C', 'D'] | Close: ['B', 'A'] \n",
      "\n",
      "Loop: 3 | Current Node: E | Gamma: [] | Open: ['F', 'C', 'D'] | Close: ['E', 'B', 'A'] \n",
      "\n",
      "Loop: 4 | Current Node: F | Gamma: ['H', 'I'] | Open: ['H', 'I', 'C', 'D'] | Close: ['F', 'E', 'B', 'A'] \n",
      "\n",
      "Loop: 5 | Current Node: H | Gamma: [] | Open: ['I', 'C', 'D'] | Close: ['H', 'F', 'E', 'B', 'A'] \n",
      "\n",
      "Loop: 6 | Current Node: I | Gamma: [] | Open: ['C', 'D'] | Close: ['I', 'H', 'F', 'E', 'B', 'A'] \n",
      "\n",
      "Loop: 7 | Current Node: C | Gamma: ['F'] | Open: ['F', 'D'] | Close: ['C', 'I', 'H', 'F', 'E', 'B', 'A'] \n",
      "\n",
      "Loop: 8 | Current Node: F | Gamma: ['H', 'I'] | Open: ['H', 'I', 'D'] | Close: ['F', 'C', 'I', 'H', 'F', 'E', 'B', 'A'] \n",
      "\n",
      "Loop: 9 | Current Node: H | Gamma: [] | Open: ['I', 'D'] | Close: ['H', 'F', 'C', 'I', 'H', 'F', 'E', 'B', 'A'] \n",
      "\n",
      "Loop: 10 | Current Node: I | Gamma: [] | Open: ['D'] | Close: ['I', 'H', 'F', 'C', 'I', 'H', 'F', 'E', 'B', 'A'] \n",
      "\n",
      "Loop: 11 | Current Node: D | Gamma: ['G'] | Open: ['G'] | Close: ['D', 'I', 'H', 'F', 'C', 'I', 'H', 'F', 'E', 'B', 'A'] \n",
      "\n",
      "Loop: 12 | Current Node: G | Gamma: ['J', 'K'] | Open: ['J', 'K'] | Close: ['G', 'D', 'I', 'H', 'F', 'C', 'I', 'H', 'F', 'E', 'B', 'A'] \n",
      "\n",
      "Loop: 13 | Current Node: J | Gamma: [] | Open: ['K'] | Close: ['J', 'G', 'D', 'I', 'H', 'F', 'C', 'I', 'H', 'F', 'E', 'B', 'A'] \n",
      "\n",
      "Loop: 13 | Current Node: K | Gamma: [] | Open: [] | Close: ['J', 'G', 'D', 'I', 'H', 'F', 'C', 'I', 'H', 'F', 'E', 'B', 'A'] \n",
      "\n",
      "Found the end node\n"
     ]
    },
    {
     "data": {
      "text/plain": [
       "True"
      ]
     },
     "execution_count": 28,
     "metadata": {},
     "output_type": "execute_result"
    }
   ],
   "source": [
    "BFS(network, 'A', 'K')"
   ]
  }
 ],
 "metadata": {
  "kernelspec": {
   "display_name": "Python 3",
   "language": "python",
   "name": "python3"
  },
  "language_info": {
   "codemirror_mode": {
    "name": "ipython",
    "version": 3
   },
   "file_extension": ".py",
   "mimetype": "text/x-python",
   "name": "python",
   "nbconvert_exporter": "python",
   "pygments_lexer": "ipython3",
   "version": "3.10.0"
  }
 },
 "nbformat": 4,
 "nbformat_minor": 5
}
