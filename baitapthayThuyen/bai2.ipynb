{
 "cells": [
  {
   "cell_type": "code",
   "execution_count": 2,
   "id": "242fca11",
   "metadata": {},
   "outputs": [],
   "source": [
    "network = {\n",
    "    'A': ['B', 'C', 'D'],\n",
    "    'B': ['E', 'F'],\n",
    "    'C': ['F'],\n",
    "    'D': ['G'],\n",
    "    'E': [],\n",
    "    'F': ['H', 'I'],\n",
    "    'G': ['J', 'K'],\n",
    "    'H': [],\n",
    "    'I': [],\n",
    "    'J': [],\n",
    "    'K': []\n",
    "}"
   ]
  },
  {
   "cell_type": "code",
   "execution_count": 12,
   "id": "857805aa",
   "metadata": {},
   "outputs": [],
   "source": [
    "def print_table(loop, current_node, gamma, open_list, close_list):\n",
    "    if loop == 0:\n",
    "        print(f\"{'Loop':<6} | {'Current Node':<13} | {'Gamma':<20} | {'Open':<30} | {'Close':<30}\")\n",
    "        print('-' * 110)\n",
    "    \n",
    "    print(f\"{loop:<6} | {str(current_node):<13} | {str(gamma):<20} | {str(open_list):<30} | {str(close_list):<30}\")\n"
   ]
  },
  {
   "cell_type": "code",
   "execution_count": 27,
   "id": "270191bc",
   "metadata": {},
   "outputs": [],
   "source": [
    "def trace(parent, start, end):\n",
    "    path = []\n",
    "    current_node = end\n",
    "    while current_node != start:\n",
    "        path.append(current_node)\n",
    "        if current_node not in parent:\n",
    "            print(\"No path found\")\n",
    "            return []\n",
    "        current_node = parent[current_node]\n",
    "    path.append(start)\n",
    "    path.reverse()\n",
    "    return path"
   ]
  },
  {
   "cell_type": "code",
   "execution_count": 31,
   "id": "fd308a44",
   "metadata": {},
   "outputs": [],
   "source": [
    "def BFS(network, start, end):\n",
    "    open = []\n",
    "    gamma = []\n",
    "    close = []\n",
    "    parent = {}\n",
    "    loop = 0\n",
    "    print_table(loop, '', '', start, '')\n",
    "    currrent_node = start #n\n",
    "    if currrent_node == end:\n",
    "        return True\n",
    "    while currrent_node !=  end:\n",
    "        loop += 1\n",
    "        if currrent_node in close:\n",
    "            if open:\n",
    "                currrent_node = open.pop(0)\n",
    "                continue\n",
    "            else:\n",
    "                print(\"No more nodes to explore, ending search.\")\n",
    "                return False\n",
    "        if network[currrent_node] != []:\n",
    "            gamma = network[currrent_node]\n",
    "        else:  \n",
    "            gamma = []\n",
    "        open += gamma\n",
    "        close[:0] = [currrent_node]\n",
    "        for child in gamma:\n",
    "            if child not in parent:\n",
    "                parent[child] = currrent_node\n",
    "        print_table(loop, currrent_node, gamma, open, close)\n",
    "        currrent_node = open.pop(0)\n",
    "        if currrent_node == end:\n",
    "            print_table(loop, currrent_node, gamma, open, close)\n",
    "            print(\"Found the end node, begin backtracking\")\n",
    "            print(f\"Path from {start} to {end}: {trace(parent, start, end)}\")\n",
    "            return True\n",
    "        if loop > 50:\n",
    "            print(\"Loop limit exceeded\")\n",
    "            return False\n",
    "\n"
   ]
  },
  {
   "cell_type": "code",
   "execution_count": 33,
   "id": "093dbf08",
   "metadata": {},
   "outputs": [],
   "source": [
    "def DFS(network, start, end):\n",
    "    open = []\n",
    "    gamma = []\n",
    "    close = []\n",
    "    parent = {}\n",
    "    loop = 0\n",
    "    print_table(loop, '', '', start, '')\n",
    "    currrent_node = start #n\n",
    "    if currrent_node == end:\n",
    "        return True\n",
    "    while currrent_node !=  end:\n",
    "        loop += 1\n",
    "        if currrent_node in close:\n",
    "            if open:\n",
    "                currrent_node = open.pop(0)\n",
    "                continue\n",
    "            else:\n",
    "                print(\"No more nodes to explore, ending search.\")\n",
    "                return False\n",
    "        if network[currrent_node] != []:\n",
    "            gamma = network[currrent_node]\n",
    "        else:  \n",
    "            gamma = []\n",
    "        open[:0] = gamma\n",
    "        close[:0] = [currrent_node]\n",
    "        for child in gamma:\n",
    "            if child not in parent:\n",
    "                parent[child] = currrent_node\n",
    "        print_table(loop, currrent_node, gamma, open, close)\n",
    "        currrent_node = open.pop(0)\n",
    "        if currrent_node == end:\n",
    "            print_table(loop, currrent_node, gamma, open, close)\n",
    "            print(\"Found the end node, begin backtracking\")\n",
    "            print(f\"Path from {start} to {end}: {trace(parent, start, end)}\")\n",
    "            return True\n",
    "        if loop > 50:\n",
    "            print(\"Loop limit exceeded\")\n",
    "            return False\n",
    "\n"
   ]
  },
  {
   "cell_type": "code",
   "execution_count": 35,
   "id": "80a809db",
   "metadata": {},
   "outputs": [
    {
     "name": "stdout",
     "output_type": "stream",
     "text": [
      "Loop   | Current Node  | Gamma                | Open                           | Close                         \n",
      "--------------------------------------------------------------------------------------------------------------\n",
      "0      |               |                      | A                              |                               \n",
      "1      | A             | ['B', 'C', 'D']      | ['B', 'C', 'D']                | ['A']                         \n",
      "2      | B             | ['E', 'F']           | ['C', 'D', 'E', 'F']           | ['B', 'A']                    \n",
      "3      | C             | ['F']                | ['D', 'E', 'F', 'F']           | ['C', 'B', 'A']               \n",
      "4      | D             | ['G']                | ['E', 'F', 'F', 'G']           | ['D', 'C', 'B', 'A']          \n",
      "5      | E             | []                   | ['F', 'F', 'G']                | ['E', 'D', 'C', 'B', 'A']     \n",
      "6      | F             | ['H', 'I']           | ['F', 'G', 'H', 'I']           | ['F', 'E', 'D', 'C', 'B', 'A']\n",
      "8      | G             | ['J', 'K']           | ['H', 'I', 'J', 'K']           | ['G', 'F', 'E', 'D', 'C', 'B', 'A']\n",
      "9      | H             | []                   | ['I', 'J', 'K']                | ['H', 'G', 'F', 'E', 'D', 'C', 'B', 'A']\n",
      "10     | I             | []                   | ['J', 'K']                     | ['I', 'H', 'G', 'F', 'E', 'D', 'C', 'B', 'A']\n",
      "11     | J             | []                   | ['K']                          | ['J', 'I', 'H', 'G', 'F', 'E', 'D', 'C', 'B', 'A']\n",
      "11     | K             | []                   | []                             | ['J', 'I', 'H', 'G', 'F', 'E', 'D', 'C', 'B', 'A']\n",
      "Found the end node, begin backtracking\n",
      "Path from A to K: ['A', 'D', 'G', 'K']\n",
      "Loop   | Current Node  | Gamma                | Open                           | Close                         \n",
      "--------------------------------------------------------------------------------------------------------------\n",
      "0      |               |                      | A                              |                               \n",
      "1      | A             | ['B', 'C', 'D']      | ['B', 'C', 'D']                | ['A']                         \n",
      "2      | B             | ['E', 'F']           | ['E', 'F', 'C', 'D']           | ['B', 'A']                    \n",
      "3      | E             | []                   | ['F', 'C', 'D']                | ['E', 'B', 'A']               \n",
      "4      | F             | ['H', 'I']           | ['H', 'I', 'C', 'D']           | ['F', 'E', 'B', 'A']          \n",
      "5      | H             | []                   | ['I', 'C', 'D']                | ['H', 'F', 'E', 'B', 'A']     \n",
      "6      | I             | []                   | ['C', 'D']                     | ['I', 'H', 'F', 'E', 'B', 'A']\n",
      "7      | C             | ['F']                | ['F', 'D']                     | ['C', 'I', 'H', 'F', 'E', 'B', 'A']\n",
      "9      | D             | ['G']                | ['G']                          | ['D', 'C', 'I', 'H', 'F', 'E', 'B', 'A']\n",
      "10     | G             | ['J', 'K']           | ['J', 'K']                     | ['G', 'D', 'C', 'I', 'H', 'F', 'E', 'B', 'A']\n",
      "11     | J             | []                   | ['K']                          | ['J', 'G', 'D', 'C', 'I', 'H', 'F', 'E', 'B', 'A']\n",
      "11     | K             | []                   | []                             | ['J', 'G', 'D', 'C', 'I', 'H', 'F', 'E', 'B', 'A']\n",
      "Found the end node, begin backtracking\n",
      "Path from A to K: ['A', 'D', 'G', 'K']\n"
     ]
    },
    {
     "data": {
      "text/plain": [
       "True"
      ]
     },
     "execution_count": 35,
     "metadata": {},
     "output_type": "execute_result"
    }
   ],
   "source": [
    "BFS(network, 'A', 'K')\n",
    "DFS(network, 'A', 'K')"
   ]
  }
 ],
 "metadata": {
  "kernelspec": {
   "display_name": "Python 3",
   "language": "python",
   "name": "python3"
  },
  "language_info": {
   "codemirror_mode": {
    "name": "ipython",
    "version": 3
   },
   "file_extension": ".py",
   "mimetype": "text/x-python",
   "name": "python",
   "nbconvert_exporter": "python",
   "pygments_lexer": "ipython3",
   "version": "3.10.12"
  }
 },
 "nbformat": 4,
 "nbformat_minor": 5
}
